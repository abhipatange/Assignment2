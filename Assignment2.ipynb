{
 "cells": [
  {
   "cell_type": "code",
   "execution_count": null,
   "id": "9f6d13b5-9a7d-4c15-887d-db342a981053",
   "metadata": {},
   "outputs": [],
   "source": [
    "Q1. What is Elastic Net Regression and how does it differ from other regression techniques?"
   ]
  },
  {
   "cell_type": "code",
   "execution_count": null,
   "id": "4544d3bc-3225-4bdd-ba44-62db97a8c7be",
   "metadata": {},
   "outputs": [],
   "source": [
    "Ans = Elastic net linear regression uses the penalties from both the lasso and \n",
    "ridge techniques to regularize regression models.\n",
    "The technique combines both the lasso and ridge regression methods by learning \n",
    "from their shortcomings to improve the regularization of statistical models."
   ]
  },
  {
   "cell_type": "code",
   "execution_count": null,
   "id": "ecade756-a762-4139-a2c8-0f560b972b46",
   "metadata": {},
   "outputs": [],
   "source": []
  },
  {
   "cell_type": "code",
   "execution_count": null,
   "id": "816b8aff-86bd-4c27-8678-80a2894b3dd4",
   "metadata": {},
   "outputs": [],
   "source": [
    "Q2. How do you choose the optimal values of the regularization parameters for Elastic Net Regression?"
   ]
  },
  {
   "cell_type": "code",
   "execution_count": null,
   "id": "74ea806c-21fe-4641-99c2-7273c50a99c9",
   "metadata": {},
   "outputs": [],
   "source": [
    "Ans = \n",
    "1.Import the data and use scikit-learn to split into train-val-test (60-20-20)\n",
    "2.Estimate and validate the OLS regression with all inputs.\n",
    "3.Search for the best ridge model.\n",
    "\n"
   ]
  },
  {
   "cell_type": "code",
   "execution_count": null,
   "id": "2d6339a4-607a-4621-a3b7-8a8b5a226df3",
   "metadata": {},
   "outputs": [],
   "source": []
  },
  {
   "cell_type": "code",
   "execution_count": null,
   "id": "11e288bc-81fc-4b36-b030-3371cc22ef68",
   "metadata": {},
   "outputs": [],
   "source": [
    "Q3. What are the advantages and disadvantages of Elastic Net Regression?"
   ]
  },
  {
   "cell_type": "code",
   "execution_count": null,
   "id": "76504801-d757-416d-985c-75f706677c05",
   "metadata": {},
   "outputs": [],
   "source": [
    "Ans = .Advantages \n",
    "The advantage of the elastic net is that it keeps the feature selection quality from the lasso penalty\n",
    "as well as the effectiveness of the ridge penalty.\n",
    "And it deals with highly correlated variables more effectively.\n",
    "\n",
    "Disadvantages\n",
    "Elastic net may also not be suitable for non-linear problems,\n",
    "where the relationship between the predictors and the outcome is not linear.\n",
    "In this case, elastic net may not be able to capture the complexity or the interactions of the data."
   ]
  },
  {
   "cell_type": "code",
   "execution_count": null,
   "id": "d4c8411e-9170-4f64-b46b-e6ba639dcc06",
   "metadata": {},
   "outputs": [],
   "source": []
  },
  {
   "cell_type": "code",
   "execution_count": null,
   "id": "f27fa4f9-c3e7-4b5d-b1a8-8fabc3082e1c",
   "metadata": {},
   "outputs": [],
   "source": [
    "Q4. What are some common use cases for Elastic Net Regression?"
   ]
  },
  {
   "cell_type": "code",
   "execution_count": null,
   "id": "5277df7a-cb45-4f3e-b70a-185ac7850cfe",
   "metadata": {},
   "outputs": [],
   "source": [
    "Ans = Elastic net linear regression uses the penalties from both the lasso and\n",
    "ridge techniques to regularize regression models.\n",
    "The technique combines both the lasso and ridge regression methods by learning \n",
    "from their shortcomings to improve the regularization of statistical models."
   ]
  },
  {
   "cell_type": "code",
   "execution_count": null,
   "id": "e7481925-8187-4ec8-a1a8-4c444d997718",
   "metadata": {},
   "outputs": [],
   "source": []
  },
  {
   "cell_type": "code",
   "execution_count": null,
   "id": "f61e5b2f-9069-4898-a15f-5017db06f951",
   "metadata": {},
   "outputs": [],
   "source": [
    "Q5. How do you interpret the coefficients in Elastic Net Regression?"
   ]
  },
  {
   "cell_type": "code",
   "execution_count": null,
   "id": "adbad44d-3278-44cf-9b8c-e68cbdb1a055",
   "metadata": {},
   "outputs": [],
   "source": [
    "Ans = A positive coefficient indicates that as the value of the independent variable increases,\n",
    "the mean of the dependent variable also tends to increase.\n",
    "A negative coefficient suggests that as the independent variable increases,\n",
    "the dependent variable tends to decrease."
   ]
  },
  {
   "cell_type": "code",
   "execution_count": null,
   "id": "a8fcb421-2d00-41fb-81f1-ec63f85c9402",
   "metadata": {},
   "outputs": [],
   "source": []
  },
  {
   "cell_type": "code",
   "execution_count": null,
   "id": "589f5a5a-c368-4671-b186-62a337730086",
   "metadata": {},
   "outputs": [],
   "source": [
    "Q6. How do you handle missing values when using Elastic Net Regression?"
   ]
  },
  {
   "cell_type": "code",
   "execution_count": null,
   "id": "2fd97941-1d73-49eb-a9a8-a3c39eb87cb1",
   "metadata": {},
   "outputs": [],
   "source": [
    "Ans = Simple approaches include taking the average of the column and use that value,\n",
    "or if there is a heavy skew the median might be better. \n",
    "A better approach, you can perform regression or nearest neighbor imputation on the column to predict the missing values."
   ]
  },
  {
   "cell_type": "code",
   "execution_count": null,
   "id": "c00d5228-36a5-4a45-8f0b-273477acc51c",
   "metadata": {},
   "outputs": [],
   "source": []
  },
  {
   "cell_type": "code",
   "execution_count": null,
   "id": "ad7879b2-aebd-41ec-b5f9-8826e0dd1fc7",
   "metadata": {},
   "outputs": [],
   "source": [
    "Q7. How do you use Elastic Net Regression for feature selection?"
   ]
  },
  {
   "cell_type": "code",
   "execution_count": null,
   "id": "b4a1ca58-6869-4c5f-add8-55f133e6734c",
   "metadata": {},
   "outputs": [],
   "source": [
    "Ans = I have a dataset with 500 samples and 100 features. I need to come up with a set of features.\n",
    "The management prefer a model with a smaller set of features. How exactly should I use elastic net to do it?\n",
    "I understand elastic net is 'embedded method' for feature selection. It basically use a combination of L1 and L2\n",
    "penalty to shrink the coefficients of those 'unimportant' features to 0 or near zero.\n",
    "Should I run the model and look at the coefficients of each variables and kind of 'arbitrarily'\n",
    "select top n features based on the absolute value of the coefficients? After the set of features being selected,\n",
    "I guess I need to run the model again with the selected set of features. "
   ]
  },
  {
   "cell_type": "code",
   "execution_count": null,
   "id": "04fae95b-abe5-4916-857a-84c59b21f806",
   "metadata": {},
   "outputs": [],
   "source": []
  },
  {
   "cell_type": "code",
   "execution_count": null,
   "id": "6a33459b-1585-49f9-a856-b0bc8534719c",
   "metadata": {},
   "outputs": [],
   "source": [
    "Q8. How do you pickle and unpickle a trained Elastic Net Regression model in Python?"
   ]
  },
  {
   "cell_type": "code",
   "execution_count": null,
   "id": "310579c8-a6e4-48ee-90e9-8c440643a087",
   "metadata": {},
   "outputs": [],
   "source": [
    "Ans = To retrieve pickled data, the steps are quite simple. \n",
    "i have to use pickle. load() function to do that. \n",
    "The primary argument of pickle load function is the file object that you get by opening the file in read-binary (rb) mode.\n",
    "as well unpickle the trained Elastic Net Regression in Python"
   ]
  },
  {
   "cell_type": "code",
   "execution_count": null,
   "id": "327d242b-68be-40b5-bae1-58174e2fd84e",
   "metadata": {},
   "outputs": [],
   "source": []
  },
  {
   "cell_type": "code",
   "execution_count": null,
   "id": "5bbdd434-6d56-4a0f-98b8-ae7d9e1e2b48",
   "metadata": {},
   "outputs": [],
   "source": []
  }
 ],
 "metadata": {
  "kernelspec": {
   "display_name": "Python 3 (ipykernel)",
   "language": "python",
   "name": "python3"
  },
  "language_info": {
   "codemirror_mode": {
    "name": "ipython",
    "version": 3
   },
   "file_extension": ".py",
   "mimetype": "text/x-python",
   "name": "python",
   "nbconvert_exporter": "python",
   "pygments_lexer": "ipython3",
   "version": "3.10.8"
  }
 },
 "nbformat": 4,
 "nbformat_minor": 5
}
